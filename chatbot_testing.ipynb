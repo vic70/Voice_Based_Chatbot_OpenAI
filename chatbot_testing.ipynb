{
 "cells": [
  {
   "cell_type": "code",
   "execution_count": 2,
   "metadata": {},
   "outputs": [],
   "source": [
    "import os\n",
    "from dotenv import load_dotenv\n",
    "\n",
    "load_dotenv()\n",
    "from openai import OpenAI\n",
    "\n",
    "openai_api_key = os.getenv(\n",
    "    \"OPENAI_API_KEY\"\n",
    ")  # get the api key which is kept inside the .env file\n",
    "client = OpenAI()\n"
   ]
  },
  {
   "cell_type": "code",
   "execution_count": 3,
   "metadata": {},
   "outputs": [],
   "source": [
    "def speech_to_text_conversion(file_path):\n",
    "\n",
    "    \"\"\"Converts audio format message to text using OpenAI's Whisper model.\"\"\"\n",
    "    audio_file= open(file_path, \"rb\") # Opening the audio file in binary read mode\n",
    "    transcription = client.audio.transcriptions.create(\n",
    "    model=\"whisper-1\",  # Model to use for transcription\n",
    "    file=audio_file  # Audio file to transcribe\n",
    "    )\n",
    "    return transcription.text"
   ]
  },
  {
   "cell_type": "code",
   "execution_count": null,
   "metadata": {},
   "outputs": [],
   "source": [
    "def text_chat(text):\n",
    "    # Generate response using OpenAI\n",
    "    response = client.chat.completions.create(\n",
    "        model= \"gpt-3.5-turbo\",\n",
    "        messages=[\n",
    "        {\"role\": \"system\", \"content\": \"You are a helpful assistant.\"},\n",
    "        {\"role\": \"user\", \"content\": \"Who won the world series in 2020?\"},\n",
    "        {\"role\": \"assistant\", \"content\": \"The Los Angeles Dodgers won the World Series in 2020.\"},\n",
    "        {\"role\": \"user\", \"content\": text}\n",
    "        ])\n",
    "    return response.choices[0].message.content"
   ]
  }
 ],
 "metadata": {
  "kernelspec": {
   "display_name": ".venv",
   "language": "python",
   "name": "python3"
  },
  "language_info": {
   "codemirror_mode": {
    "name": "ipython",
    "version": 3
   },
   "file_extension": ".py",
   "mimetype": "text/x-python",
   "name": "python",
   "nbconvert_exporter": "python",
   "pygments_lexer": "ipython3",
   "version": "3.12.6"
  }
 },
 "nbformat": 4,
 "nbformat_minor": 2
}
